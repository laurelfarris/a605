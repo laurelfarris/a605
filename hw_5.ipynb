{
 "cells": [
  {
   "cell_type": "code",
   "execution_count": 1,
   "metadata": {
    "collapsed": true
   },
   "outputs": [],
   "source": [
    "import math\n",
    "from astropy import constants as const"
   ]
  },
  {
   "cell_type": "markdown",
   "metadata": {},
   "source": [
    "1."
   ]
  },
  {
   "cell_type": "code",
   "execution_count": 4,
   "metadata": {
    "collapsed": false
   },
   "outputs": [],
   "source": [
    "M_sun = const.M_sun.cgs.value\n",
    "m_u = 1.67e-24\n",
    "M1 = 1.e5 * M_sun\n",
    "D1 = 40. * 3.e18"
   ]
  },
  {
   "cell_type": "markdown",
   "metadata": {},
   "source": [
    "1(a)"
   ]
  },
  {
   "cell_type": "code",
   "execution_count": 5,
   "metadata": {
    "collapsed": true
   },
   "outputs": [],
   "source": [
    "d2 = 1. * 3.e18\n",
    "n2 = 3000."
   ]
  },
  {
   "cell_type": "code",
   "execution_count": 7,
   "metadata": {
    "collapsed": false
   },
   "outputs": [
    {
     "name": "stdout",
     "output_type": "stream",
     "text": [
      "number of clumps:  1404.19204837\n",
      "number of clumps in 1D:  11.1980440046\n"
     ]
    }
   ],
   "source": [
    "p1 = 3./(32.*math.pi*1.e19)\n",
    "n1 = p1/m_u\n",
    "r2 = d2/2.\n",
    "V2 = ((4./3.)*math.pi*r2**3)\n",
    "m2 = V2*n2*2.*m_u\n",
    "num_clumps = (M1/m2)\n",
    "print 'number of clumps: ', num_clumps\n",
    "print 'number of clumps in 1D: ', num_clumps**(1./3.)\n"
   ]
  },
  {
   "cell_type": "markdown",
   "metadata": {},
   "source": [
    "1(b)"
   ]
  },
  {
   "cell_type": "code",
   "execution_count": 8,
   "metadata": {
    "collapsed": false
   },
   "outputs": [],
   "source": [
    "D1 = 40.*3.e18\n",
    "R1 = D1/2.\n",
    "V1 = ((4./3.)*math.pi*R1**3)"
   ]
  },
  {
   "cell_type": "code",
   "execution_count": 9,
   "metadata": {
    "collapsed": false
   },
   "outputs": [
    {
     "name": "stdout",
     "output_type": "stream",
     "text": [
      "6.15342239594e+16\n"
     ]
    }
   ],
   "source": [
    "print ((40. - num_clumps**(1./3.))/num_clumps)*3.e18"
   ]
  },
  {
   "cell_type": "code",
   "execution_count": 10,
   "metadata": {
    "collapsed": false
   },
   "outputs": [
    {
     "name": "stdout",
     "output_type": "stream",
     "text": [
      "number density of clumps:  1.55197295519e-57\n"
     ]
    }
   ],
   "source": [
    "print 'number density of clumps: ', num_clumps/V1"
   ]
  },
  {
   "cell_type": "markdown",
   "metadata": {},
   "source": [
    "1(c)"
   ]
  },
  {
   "cell_type": "code",
   "execution_count": 11,
   "metadata": {
    "collapsed": false
   },
   "outputs": [],
   "source": [
    "G = const.G.cgs.value\n",
    "k = const.k_B.cgs.value\n",
    "c = const.c.cgs.value"
   ]
  },
  {
   "cell_type": "code",
   "execution_count": 12,
   "metadata": {
    "collapsed": false
   },
   "outputs": [
    {
     "name": "stdout",
     "output_type": "stream",
     "text": [
      "470371.044035\n"
     ]
    }
   ],
   "source": [
    "v = math.sqrt(G*M1/R1)\n",
    "print v"
   ]
  },
  {
   "cell_type": "code",
   "execution_count": 13,
   "metadata": {
    "collapsed": false
   },
   "outputs": [
    {
     "name": "stdout",
     "output_type": "stream",
     "text": [
      "40662.9022177\n"
     ]
    }
   ],
   "source": [
    "T = 20.\n",
    "lamb = 0.26\n",
    "width = (lamb/c)*math.sqrt(2.*k*T/(2.*m_u))\n",
    "width = math.sqrt(2.*k*T/(2.*m_u))\n",
    "print width"
   ]
  },
  {
   "cell_type": "markdown",
   "metadata": {
    "collapsed": true
   },
   "source": [
    "2(a)"
   ]
  },
  {
   "cell_type": "code",
   "execution_count": 27,
   "metadata": {
    "collapsed": true
   },
   "outputs": [],
   "source": [
    "Ti = 3.e7\n",
    "Tf = 1.e4\n",
    "n = 1.e-3\n",
    "z = 0.02\n",
    "lamb = 2.e-23"
   ]
  },
  {
   "cell_type": "code",
   "execution_count": 19,
   "metadata": {
    "collapsed": false
   },
   "outputs": [
    {
     "name": "stdout",
     "output_type": "stream",
     "text": [
      "16480281089.5\n"
     ]
    }
   ],
   "source": [
    "time = 5.*k*Ti/(2.*n*lamb)\n",
    "print time/(math.pi*1.e7)"
   ]
  },
  {
   "cell_type": "code",
   "execution_count": 30,
   "metadata": {
    "collapsed": false
   },
   "outputs": [
    {
     "name": "stdout",
     "output_type": "stream",
     "text": [
      "310542.43134\n"
     ]
    }
   ],
   "source": [
    "print 1.5*n**3*k*(Ti-Tf)/lamb"
   ]
  },
  {
   "cell_type": "markdown",
   "metadata": {
    "collapsed": true
   },
   "source": [
    "3(b)"
   ]
  },
  {
   "cell_type": "code",
   "execution_count": 5,
   "metadata": {
    "collapsed": false
   },
   "outputs": [],
   "source": [
    "h = const.h.cgs.value\n",
    "c = const.c.cgs.value\n",
    "k = const.k_B.cgs.value\n",
    "\n",
    "T = 35000."
   ]
  },
  {
   "cell_type": "code",
   "execution_count": 9,
   "metadata": {
    "collapsed": false
   },
   "outputs": [
    {
     "name": "stdout",
     "output_type": "stream",
     "text": [
      "69218558.1416\n"
     ]
    }
   ],
   "source": [
    "v = math.sqrt(4.36e-11/9.1e-27)\n",
    "print v"
   ]
  },
  {
   "cell_type": "code",
   "execution_count": null,
   "metadata": {
    "collapsed": true
   },
   "outputs": [],
   "source": []
  }
 ],
 "metadata": {
  "kernelspec": {
   "display_name": "Python 2",
   "language": "python",
   "name": "python2"
  },
  "language_info": {
   "codemirror_mode": {
    "name": "ipython",
    "version": 2
   },
   "file_extension": ".py",
   "mimetype": "text/x-python",
   "name": "python",
   "nbconvert_exporter": "python",
   "pygments_lexer": "ipython2",
   "version": "2.7.10"
  }
 },
 "nbformat": 4,
 "nbformat_minor": 0
}
